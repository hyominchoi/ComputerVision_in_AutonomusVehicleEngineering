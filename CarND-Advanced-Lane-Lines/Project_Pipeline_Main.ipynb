{
 "cells": [
  {
   "cell_type": "markdown",
   "metadata": {
    "collapsed": true,
    "deletable": true,
    "editable": true
   },
   "source": [
    "### Imports"
   ]
  },
  {
   "cell_type": "code",
   "execution_count": 1,
   "metadata": {
    "collapsed": true,
    "deletable": true,
    "editable": true
   },
   "outputs": [],
   "source": [
    "import pickle\n",
    "import cv2\n",
    "import numpy as np\n",
    "import matplotlib.pyplot as plt\n",
    "import matplotlib.image as mpimg\n",
    "import glob\n",
    "from numpy.linalg import inv\n",
    "import ImageProcessor\n",
    "import LaneFinder\n",
    "from moviepy.editor import VideoFileClip\n",
    "from IPython.display import HTML\n",
    "%matplotlib inline"
   ]
  },
  {
   "cell_type": "markdown",
   "metadata": {
    "deletable": true,
    "editable": true
   },
   "source": [
    "### Compute Parameters and instantiate Lane object"
   ]
  },
  {
   "cell_type": "code",
   "execution_count": 2,
   "metadata": {
    "collapsed": true,
    "deletable": true,
    "editable": true
   },
   "outputs": [],
   "source": [
    "ret, mtx, dist, rvecs, tvecs = ImageProcessor.calibrateCamera()\n",
    "M, Minv = ImageProcessor.transformMatrix()\n",
    "lane = LaneFinder.Lane()\n",
    "lane.setTransformMatrix()"
   ]
  },
  {
   "cell_type": "markdown",
   "metadata": {
    "collapsed": true,
    "deletable": true,
    "editable": true
   },
   "source": [
    "### Define pipeline"
   ]
  },
  {
   "cell_type": "code",
   "execution_count": 3,
   "metadata": {
    "collapsed": true,
    "deletable": true,
    "editable": true
   },
   "outputs": [],
   "source": [
    "def pipeline(original_img):\n",
    "    # undistort the original image\n",
    "    undistorted = ImageProcessor.undistortImage(original_img, ret, mtx, dist)\n",
    "    # convert to binary image using image thresholding\n",
    "    binary_img = ImageProcessor.imageThresholding(undistorted)\n",
    "    # perspective transform\n",
    "    binary_warped = ImageProcessor.warper(binary_img, M)\n",
    "    # find lanes and visualize\n",
    "    lane.LaneCalibration(binary_warped)\n",
    "    final_img = lane.visualizeLane(undistorted)\n",
    "    return final_img"
   ]
  },
  {
   "cell_type": "markdown",
   "metadata": {
    "deletable": true,
    "editable": true
   },
   "source": [
    "### Apply pipeline to the test video clip"
   ]
  },
  {
   "cell_type": "code",
   "execution_count": 4,
   "metadata": {
    "collapsed": false,
    "deletable": true,
    "editable": true
   },
   "outputs": [
    {
     "name": "stdout",
     "output_type": "stream",
     "text": [
      "[MoviePy] >>>> Building video project_video_output.mp4\n",
      "[MoviePy] Writing video project_video_output.mp4\n"
     ]
    },
    {
     "name": "stderr",
     "output_type": "stream",
     "text": [
      "100%|█████████▉| 1260/1261 [03:22<00:00,  6.14it/s]\n"
     ]
    },
    {
     "name": "stdout",
     "output_type": "stream",
     "text": [
      "[MoviePy] Done.\n",
      "[MoviePy] >>>> Video ready: project_video_output.mp4 \n",
      "\n",
      "CPU times: user 3min 36s, sys: 54.1 s, total: 4min 31s\n",
      "Wall time: 3min 22s\n"
     ]
    }
   ],
   "source": [
    "# reset lane\n",
    "lane.reset() \n",
    "# define pipeline\n",
    "clip1 = VideoFileClip(\"project_video.mp4\")\n",
    "laned_clip = clip1.fl_image(pipeline) \n",
    "laned_output = 'project_video_output.mp4'\n",
    "%time laned_clip.write_videofile(laned_output, audio=False)"
   ]
  }
 ],
 "metadata": {
  "kernelspec": {
   "display_name": "carnd-term1",
   "language": "python",
   "name": "carnd-term1"
  },
  "language_info": {
   "codemirror_mode": {
    "name": "ipython",
    "version": 3
   },
   "file_extension": ".py",
   "mimetype": "text/x-python",
   "name": "python",
   "nbconvert_exporter": "python",
   "pygments_lexer": "ipython3",
   "version": "3.5.2"
  },
  "widgets": {
   "state": {},
   "version": "1.1.2"
  }
 },
 "nbformat": 4,
 "nbformat_minor": 2
}
